{
 "cells": [
  {
   "cell_type": "code",
   "execution_count": 1,
   "id": "44dfef31",
   "metadata": {},
   "outputs": [],
   "source": [
    "#image 1\n",
    "import cv2\n",
    "import numpy\n",
    "cn = numpy.zeros((500,500,3))\n",
    "for x1 in [0,200,400]:\n",
    "    for y1 in [0,200,400]:\n",
    "            image = cv2.rectangle(cn, (x1,y1), (x1+100,y1+100), [255,0,255], -1)\n",
    "\n",
    "for x2 in [100,300]:\n",
    "    for y2 in [300,100]:\n",
    "            image = cv2.rectangle(cn,(x2,y2),(x2+100,y2+100),[255,0,255],-1)\n",
    "cv2.imshow(\"image1\",cn)\n",
    "cv2.imwrite(\"image1.jpg\",cn)\n",
    "cv2.waitKey()\n",
    "cv2.destroyAllWindows()"
   ]
  },
  {
   "cell_type": "code",
   "execution_count": 2,
   "id": "0035f7bf",
   "metadata": {},
   "outputs": [],
   "source": [
    "#image 2\n",
    "import cv2\n",
    "import numpy\n",
    "cn = numpy.zeros((500,500,3))\n",
    "for x in [100,200,300,400]:\n",
    "            image = cv2.line(cn, (0,x), (500,x), (255,0,255), 2)\n",
    "            image = cv2.line(cn, (x,0), (x,500), (255,0,255), 2)\n",
    "cv2.imshow(\"image2\",cn)\n",
    "cv2.imwrite(\"image2.jpg\",cn)\n",
    "cv2.waitKey()\n",
    "cv2.destroyAllWindows()"
   ]
  },
  {
   "cell_type": "code",
   "execution_count": 3,
   "id": "0c5b5574",
   "metadata": {},
   "outputs": [],
   "source": [
    "# crop image 1 and swap it with image2\n",
    "import cv2\n",
    "import numpy\n",
    "img1 = cv2.imread('image1.jpg')\n",
    "img2 = cv2.imread('image2.jpg')\n",
    "crop = img2[100:400,100:400]\n",
    "img1[100:400,100:400] = crop\n",
    "cv2.imshow(\"crop\",img1)\n",
    "cv2.waitKey()\n",
    "cv2.destroyAllWindows()"
   ]
  },
  {
   "cell_type": "code",
   "execution_count": 4,
   "id": "55efa320",
   "metadata": {},
   "outputs": [],
   "source": [
    "# crop image 2 and swap it with image1\n",
    "import cv2\n",
    "import numpy\n",
    "img1 = cv2.imread('image1.jpg')\n",
    "img2 = cv2.imread('image2.jpg')\n",
    "crop = img1[100:400,100:400]\n",
    "img2[100:400,100:400] = crop\n",
    "cv2.imshow(\"crop\",img2)\n",
    "cv2.waitKey()\n",
    "cv2.destroyAllWindows()"
   ]
  },
  {
   "cell_type": "code",
   "execution_count": 5,
   "id": "fd82f5cc",
   "metadata": {},
   "outputs": [],
   "source": [
    "#image 1 horizontally concat with image 2\n",
    "import cv2\n",
    "import numpy\n",
    "img1 = cv2.imread('image1.jpg')\n",
    "img2 = cv2.imread('image2.jpg')\n",
    "newImg = cv2.hconcat([img1,img2])\n",
    "cv2.imshow(\"concat\",newImg)\n",
    "cv2.waitKey()\n",
    "cv2.destroyAllWindows()"
   ]
  },
  {
   "cell_type": "code",
   "execution_count": 6,
   "id": "65c805e0",
   "metadata": {},
   "outputs": [],
   "source": [
    "#image 1 vertically concat with image 2\n",
    "import cv2\n",
    "import numpy\n",
    "img1 = cv2.imread('image1.jpg')\n",
    "img2 = cv2.imread('image2.jpg')\n",
    "newImg = cv2.vconcat([img1,img2])\n",
    "cv2.imshow(\"concat\",newImg)\n",
    "cv2.waitKey()\n",
    "cv2.destroyAllWindows()"
   ]
  },
  {
   "cell_type": "code",
   "execution_count": 7,
   "id": "2160c52d",
   "metadata": {},
   "outputs": [],
   "source": [
    "import cv2\n",
    "import numpy\n",
    "img1 = cv2.imread('image1.jpg')\n",
    "img2 = cv2.imread('image2.jpg')\n",
    "newImg1 = cv2.hconcat([img1,img2]) \n",
    "newImg2 = cv2.hconcat([img2,img1])\n",
    "newImg3 = cv2.vconcat([newImg1,newImg2])\n",
    "cv2.imshow(\"concat\",newImg3)\n",
    "cv2.waitKey()\n",
    "cv2.destroyAllWindows()"
   ]
  },
  {
   "cell_type": "code",
   "execution_count": null,
   "id": "0da49684",
   "metadata": {},
   "outputs": [],
   "source": []
  },
  {
   "cell_type": "code",
   "execution_count": null,
   "id": "f56c4f96",
   "metadata": {},
   "outputs": [],
   "source": []
  }
 ],
 "metadata": {
  "kernelspec": {
   "display_name": "Python 3",
   "language": "python",
   "name": "python3"
  },
  "language_info": {
   "codemirror_mode": {
    "name": "ipython",
    "version": 3
   },
   "file_extension": ".py",
   "mimetype": "text/x-python",
   "name": "python",
   "nbconvert_exporter": "python",
   "pygments_lexer": "ipython3",
   "version": "3.8.8"
  }
 },
 "nbformat": 4,
 "nbformat_minor": 5
}
